{
 "cells": [
  {
   "cell_type": "code",
   "execution_count": 1,
   "metadata": {},
   "outputs": [],
   "source": [
    "import gym\n",
    "import tensorflow as tf\n",
    "import numpy as np\n",
    "import matplotlib.pyplot as plt"
   ]
  },
  {
   "cell_type": "code",
   "execution_count": 2,
   "metadata": {},
   "outputs": [
    {
     "name": "stderr",
     "output_type": "stream",
     "text": [
      "[2020-07-07 08:11:22,004] Making new env: CartPole-v1\n",
      "/home/kamalshrestha/anaconda3/lib/python3.7/site-packages/gym/envs/registration.py:17: PkgResourcesDeprecationWarning: Parameters to load are deprecated.  Call .resolve and .require separately.\n",
      "  result = entry_point.load(False)\n"
     ]
    }
   ],
   "source": [
    "env = gym.envs.make('CartPole-v1')\n",
    "action_space = list(range(env.action_space.n))\n",
    "policy_lr = 0.01 # learning rate for the policy net\n",
    "policy_lr_decay = 0.001 # decay factor for the policy net learning rate"
   ]
  },
  {
   "cell_type": "code",
   "execution_count": null,
   "metadata": {},
   "outputs": [],
   "source": [
    "policy_network = tf.keras.models.Sequential([\n",
    "    tf.keras.layers.Dense(16, activation='relu'),\n",
    "    tf.keras.layers.Dense(env.action_space.n, activation='softmax')\n",
    "])\n",
    "policy_network.build([None, 4])"
   ]
  },
  {
   "cell_type": "code",
   "execution_count": null,
   "metadata": {},
   "outputs": [],
   "source": [
    "theta = policy_network.trainable_variables\n",
    "gamma = 0.9"
   ]
  },
  {
   "cell_type": "code",
   "execution_count": null,
   "metadata": {},
   "outputs": [],
   "source": [
    "policy_optimizer = tf.keras.optimizers.SGD(lr=policy_lr, decay=policy_lr_decay)\n"
   ]
  },
  {
   "cell_type": "code",
   "execution_count": null,
   "metadata": {},
   "outputs": [],
   "source": [
    "def generate_episode_PG(env, policy_net, train=True, render=True):\n",
    "    state = env.reset()\n",
    "    done = False\n",
    "    t = 0\n",
    "    episode = []\n",
    "    while not done:\n",
    "        # unsqueeze state vector to [1 x state size]\n",
    "        state_ = state[None, ...]\n",
    "\n",
    "        # get the policy distribution for state\n",
    "        action_distribution = policy_net(state_)\n",
    "\n",
    "        # sample an action as per the policy distribution\n",
    "        action = np.random.choice(action_space, p=action_distribution.numpy()[0])\n",
    "        \n",
    "        # act on the environment\n",
    "        new_state, reward, done, __md = env.step(action)\n",
    "        \n",
    "        # append the experience tuple to the episode array\n",
    "        episode.append((t, state, action, reward))\n",
    "        if render:\n",
    "            env.render()\n",
    "        state = new_state\n",
    "        t += 1\n",
    "    return episode"
   ]
  },
  {
   "cell_type": "code",
   "execution_count": null,
   "metadata": {},
   "outputs": [],
   "source": [
    "NUM_EPISODES = 2000\n"
   ]
  },
  {
   "cell_type": "code",
   "execution_count": null,
   "metadata": {},
   "outputs": [],
   "source": [
    "rewards, average_rewards = [0], [0]\n",
    "for episode_number in range(NUM_EPISODES):\n",
    "\n",
    "    episode = generate_episode_PG(env, policy_network, render=False)\n",
    "\n",
    "    G = 0\n",
    "\n",
    "    # iterate over experience tuples\n",
    "    for i, state, action, reward in reversed(episode):\n",
    "        with tf.GradientTape() as tape:\n",
    "            G = G * gamma + reward\n",
    "\n",
    "            # calculate pi(s, a)\n",
    "            action_probability = policy_network(state[None, ...])[0, action]\n",
    "\n",
    "            # calculate log(pi(s,a))\n",
    "            log_action_probability = tf.math.log(action_probability)\n",
    "\n",
    "        # calculate grad(log(pi(s,a))) wrt theta\n",
    "        grads = tape.gradient(log_action_probability, theta)\n",
    "\n",
    "        # calculate PG -- the minus sign makes the optimizer ascend the PG\n",
    "        policy_gradients = [- G * g for g in grads]\n",
    "\n",
    "        # update the parameters\n",
    "        policy_optimizer.apply_gradients(zip(policy_gradients, theta))\n",
    "\n",
    "\n",
    "    # record the total rewards for this timestep\n",
    "    # this produces a noisy plot\n",
    "    rewards.append(len(episode))\n",
    "\n",
    "    # record a rolling average of total rewards across episodes\n",
    "    average_rewards.append(average_rewards[-1]*0.9 + len(episode)*0.1)\n",
    "\n",
    "    # print stats every 50 episodes\n",
    "    if not (episode_number+1) % 50:\n",
    "        print(f'Episode: {episode_number+1}, average lifetime:{round(average_rewards[-1])}.')\n",
    "\n",
    "env.close()"
   ]
  },
  {
   "cell_type": "code",
   "execution_count": null,
   "metadata": {},
   "outputs": [],
   "source": []
  },
  {
   "cell_type": "code",
   "execution_count": null,
   "metadata": {},
   "outputs": [],
   "source": []
  },
  {
   "cell_type": "code",
   "execution_count": null,
   "metadata": {},
   "outputs": [],
   "source": []
  },
  {
   "cell_type": "code",
   "execution_count": null,
   "metadata": {},
   "outputs": [],
   "source": []
  },
  {
   "cell_type": "code",
   "execution_count": null,
   "metadata": {},
   "outputs": [],
   "source": []
  },
  {
   "cell_type": "code",
   "execution_count": null,
   "metadata": {},
   "outputs": [],
   "source": []
  }
 ],
 "metadata": {
  "kernelspec": {
   "display_name": "Python 3",
   "language": "python",
   "name": "python3"
  },
  "language_info": {
   "codemirror_mode": {
    "name": "ipython",
    "version": 3
   },
   "file_extension": ".py",
   "mimetype": "text/x-python",
   "name": "python",
   "nbconvert_exporter": "python",
   "pygments_lexer": "ipython3",
   "version": "3.7.6"
  }
 },
 "nbformat": 4,
 "nbformat_minor": 4
}
